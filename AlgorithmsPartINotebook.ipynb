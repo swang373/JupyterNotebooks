{
 "cells": [
  {
   "cell_type": "markdown",
   "metadata": {},
   "source": [
    "# Algorithms, Part I\n",
    "### by Kevin Wayne, Robert Sedgewick"
   ]
  },
  {
   "cell_type": "markdown",
   "metadata": {},
   "source": [
    "## Week 0: Welcome to Algorithms, Part 1"
   ]
  },
  {
   "cell_type": "markdown",
   "metadata": {},
   "source": [
    "### Course Introduction\n",
    "---\n",
    "* Algorithm: method for solving a problem.\n",
    "* Data Structure: method to store information."
   ]
  },
  {
   "cell_type": "markdown",
   "metadata": {},
   "source": [
    "## Week 1: Union-Find"
   ]
  },
  {
   "cell_type": "markdown",
   "metadata": {},
   "source": [
    "### Dynamic Connectivity\n",
    "---\n",
    "**Steps to Developing a Useable Algorithm**\n",
    "1. Model the problem.\n",
    "2. Find an algorithm to solve it.\n",
    "3. Fast enough? Fits in memory?\n",
    "4. If not, figure out why.\n",
    "5. Find a way to address the problem.\n",
    "6. Iterate until satisfied.\n",
    "\n",
    "**Dynamic Connectivity Problem**: Given a set of *N* objects, can we support a union command (connect two objects) and a find/connected query (determine whether a path connecting two objects exists) over them?\n",
    "\n",
    "To model the connections, assume \"is connected to\" is an equivalence relation satisfying:\n",
    "* Reflexive: *p* is connected to *p*\n",
    "* Symmetric: If *p* is connected to *q*, then *q* is connected to *p*.\n",
    "* Transitive: IF *p* is connected to *q* and *q* is connected to *r*, then *p* is connected to *r*.\n",
    "\n",
    "A connected component is a maximal set of objects that are mutually connected. From this perspective, the find query checks if two objects are in the same component and the union command replaces components containing two objects with their union.\n",
    "\n",
    "The initial goal is to design an efficient data structure for union-find given the following considerations:\n",
    "* Number of objects *N* can be huge.\n",
    "* Number of operations *M* can be huge.\n",
    "* Find queries and union commands may be intermixed."
   ]
  },
  {
   "cell_type": "markdown",
   "metadata": {},
   "source": [
    "### Quick-Find\n",
    "---\n",
    "Also called the \"eager approach\".\n",
    "\n",
    "**Data Structure:** Integer array `id[]` of size *N*.\n",
    "\n",
    "**Interpretation:** Two objects *p* and *q* are connected **iff** their entries in the array are the same.\n",
    "\n",
    "**Find:** Check if *p* and *q* have the same id.\n",
    "\n",
    "**Union:** To merge components containing *p* and *q*, change all entries whose id equals `id[p]` to `id[q]`.\n",
    "\n",
    "**Cost Model:** Number of array accesses (for read or write). In terms of order of growth, initialization is *O*(*N*), union is *O*(*N*), and find is *O*(1).\n",
    "\n",
    "**Defect:** Union too expensive (*N* array accesses). Trees are flat, but too expensive to keep them flat."
   ]
  },
  {
   "cell_type": "markdown",
   "metadata": {},
   "source": [
    "### Quick-Union\n",
    "---\n",
    "Also called the \"lazy approach\".\n",
    "\n",
    "**Data Structure:** Integer array `id[]` of size *N*.\n",
    "\n",
    "**Interpretation:** `id[i]` is the parent of `i`. The root of `i` is `id[id[...id[i]...]]`. Checking until the id doesn't change is safe because the algorithm ensures no cycles.\n",
    "\n",
    "**Find:** Check if *p* and *q* have the same root.\n",
    "\n",
    "**Union:** To merge components containing *p* and *q*, set the id of *p*'s root to the id of *q*'s root.\n",
    "\n",
    "**Cost Model:** Number of array accesses (for read or write). In terms of order of growth, initialization is *O*(*N*), union is *O*(*N*), and find is at worst *O*(*N*).\n",
    "\n",
    "**Defect:** Find too expensive (at worst *N* array accesses). Trees can get tall."
   ]
  },
  {
   "cell_type": "markdown",
   "metadata": {},
   "source": [
    "### Quick-Union Improvements\n",
    "---\n",
    "**Improvement 1**\n",
    "\n",
    "Known as \"weighted quick-union\", the approach is to modify quick-union to avoid tall trees by keeping track of the size of each tree (number of objects), balancing them by linking the root of the smaller tree to the root of the larger tree. Alternatively, can union according to height or \"rank\".\n",
    "\n",
    "**Data Structure:** Same as quick-union, but maintain extra array `sz[i]` to count number of objects in the tree rooted at `i`.\n",
    "\n",
    "**Find:** Identical to quick-union.\n",
    "\n",
    "**Union:** Modified from quick-union to link root of smaller tree to root of larger tree and update the `sz[]` array.\n",
    "\n",
    "**Proposition:** Depth of any node *x* is at most lg*N* (base 2).\n",
    ">Proof: The depth of *x* increases by 1 when tree *T*1 containing *x* is merged into another tree *T*2. The size of the tree containing *x* at least doubles since |*T*2| ≥ |*T*1|, but it can only double at most lg*N* times.\n",
    "\n",
    "**Running Time:** Find takes time proportional to depth of *p* and *q*. Union takes constant time, given roots. In terms of order of growth, initialization is *O*(*N*), union is *O*(lg*N*) (including the cost of finding the roots), and find is at worst *O*(lg*N*), based on the proposition.\n",
    "\n",
    "**Improvement 2**\n",
    "\n",
    "Known as \"path compression\", modify the algorithm such that after computing the root of *p*, set the id of each examined node to point to that root. This only costs constant time.\n",
    "\n",
    "**Proposition:** [Hopcroft-Ulman, Tarjan] Starting from an empty data structure, any sequence of *M* union-find ops on *N* objects makes ≤ *c*(*N* + *M*lg\\**N*) array accesses, where lg\\* is the iterative log function. Analysis can be improved to *N* + *M*α(*M*,*N*).\n",
    "\n",
    "Is there a linear-time algorithm for *M* union-find ops on *N* objects? No, weighted quick-union with path compression (WQUPC) is not quite linear in theory, but it might as well be in practice.\n",
    "\n",
    "In summary,\n",
    "\n",
    "|           Algorithm            | Worst-Case Time  |\n",
    "| ------------------------------ | :--------------: |\n",
    "| Quick-Find                     | *M* *N*          |\n",
    "| Quick-Union (QU)               | *M* *N*          |\n",
    "| Weighted QU                    | *N* + *M*log*N*  |\n",
    "| QU + Path Compression          | *N* + *M*log*N*  |\n",
    "| Weighted QU + Path Compression | *N* + *M*lg\\**N* |\n",
    "\n",
    "Ex. For 10^9 union-find ops on 10^9 objects, WQUPC reduces the time from 30 years to 6 seconds."
   ]
  },
  {
   "cell_type": "markdown",
   "metadata": {},
   "source": [
    "### Union-Find Applications\n",
    "---\n",
    "**Percolation**\n",
    "\n",
    "A model for many physical systems. Consider an *N*×*N* grid of sites, with site vacancy probablity *p*. The system is said to percolate **iff** the top and bottom are connected by open sites.\n",
    "\n",
    "**Percolation Phase Transition**\n",
    "\n",
    "When *N* is large, theory guarantees a sharp threshold *p*\\* such that for\n",
    "* *p* > *p*\\*: almost certainly percolates\n",
    "* *p* < *p*\\*: almost certainly doesn't percolate.\n",
    "\n",
    "We determine *p*\\* by employing the union-find algorithm in Monte-Carlo simulation.\n",
    "1. Initialize *N*×*N* whole grid to be blocked.\n",
    "  1. Create an object for each site, indexing them from 0 to *N*^2-1.\n",
    "2. Randomly open sites until the top and bottom are connected.\n",
    "  1. Sites are in the same component if connected by open sites.\n",
    "  2. ~~Percolates **iff** any site in the bottom row is connected to a site in the top row. This brute force solution ends up being quadratic in time.~~ The trick is to introduce two virtual sites, one connected to every site in the top row and the other connected to every site in the bottom row. The system percolates **iff** the virtual top site is connected to the virtual bottom site.\n",
    "  3. Model opening a new site as connecting to all adjacent open sites.\n",
    "3. The vacancy percentage estimates *p*\\*.\n",
    "\n",
    "The computational solution for *p*\\* for large square lattices is approximately 0.592746.\n"
   ]
  },
  {
   "cell_type": "markdown",
   "metadata": {},
   "source": [
    "## Week 1: Analysis of Algorithms"
   ]
  },
  {
   "cell_type": "code",
   "execution_count": null,
   "metadata": {
    "collapsed": true
   },
   "outputs": [],
   "source": []
  }
 ],
 "metadata": {
  "kernelspec": {
   "display_name": "Python 2",
   "language": "python",
   "name": "python2"
  },
  "language_info": {
   "codemirror_mode": {
    "name": "ipython",
    "version": 2
   },
   "file_extension": ".py",
   "mimetype": "text/x-python",
   "name": "python",
   "nbconvert_exporter": "python",
   "pygments_lexer": "ipython2",
   "version": "2.7.11"
  }
 },
 "nbformat": 4,
 "nbformat_minor": 0
}
