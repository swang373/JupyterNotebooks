{
 "cells": [
  {
   "cell_type": "markdown",
   "metadata": {},
   "source": [
    "# Income Tax Declaration in France 2016\n",
    "### An American CERNite's Perspective\n",
    "---"
   ]
  },
  {
   "cell_type": "markdown",
   "metadata": {},
   "source": [
    "*The instructions which follow are based off of this CERN [eguide](http://admin-eguide.web.cern.ch/en/procedure/income-tax-declaration-france), the accompanying [questionnaire](https://cds.cern.ch/record/1694110/files/FAQ%20SIP%20Bellegarde%20e.pdf) provided by the Bellegarde SIP, and help from expatriates in Crossroads Church St. Genis.*"
   ]
  },
  {
   "cell_type": "markdown",
   "metadata": {},
   "source": [
    "According to CERN,\n",
    ">The deadline for submitting a declaration form on paper is **Wednesday, 18 May 2016** at midnight, date as per postmark (including for members of the personnel non-resident in France and obliged to submit a declaration)."
   ]
  },
  {
   "cell_type": "markdown",
   "metadata": {},
   "source": [
    "The necessary forms can be downloaded from [impots.gouv.fr](https://www.impots.gouv.fr), France's tax administration wesbite. Click on the link labelled `Recherche de formulaires`, near the top right corner of the website's home page, to begin searching for the relevant forms.\n",
    "\n",
    "You'll need the basic income declaration form 2042 for the 2015 tax year. In the search box, enter the following fields:\n",
    "\n",
    "* **Année** : 2016\n",
    "* **Numéro d'imprimé** : 2042\n",
    "* **Numéro C.E.R.F.A.** : 10330 * 20\n",
    "\n",
    "There should be a drop down menu displaying \"2042 PDF non remplissable\". Clicking `OK >` will open the form in a pop-up window where it can be downloaded.\n",
    "\n",
    "You'll also need form 2047, a counterpart form used for filling out form 2042. In the search box, enter the following fields and download the form as explained above.\n",
    "\n",
    "* **Année** : 2016\n",
    "* **Numéro d'imprimé** : 2047\n",
    "* **Numéro C.E.R.F.A.** : 11226 * 18\n",
    "\n",
    "The other form you will likely need is the foreign bank account declaration form 3916 for the 2015 tax year. In the search box enter the following fields and download the form as you did above:\n",
    "\n",
    "* **Année** : 2016\n",
    "* **Numéro d'imprimé** : 3916\n",
    "\n",
    "Apparently, you can just as well declare your foreign bank accounts on a regular sheet of paper. We'll touch on this when we discuss declaring bank accounts later on.\n",
    "\n",
    "You may or may not require more forms than these, and since I can't advise you on that, I recommend you peruse the official CERN documentation and/or get in touch with the [social affairs service](http://hr-dep.web.cern.ch/social/social-affairs-service), which will more than likely redirect you to inquire of the Bellegarde SIP if your tax situation is very involved."
   ]
  },
  {
   "cell_type": "markdown",
   "metadata": {},
   "source": [
    "# Filling Out Form 2047\n",
    "---"
   ]
  },
  {
   "cell_type": "markdown",
   "metadata": {},
   "source": [
    "**Header**\n",
    "\n",
    "Fill out your last name, first name, and address, respectively."
   ]
  },
  {
   "cell_type": "markdown",
   "metadata": {},
   "source": [
    "**1 Wages, Salaries, Pensions, and Rent Taxable in France (\"TRAITEMENTS, SALAIRES, PENSIONS ET RENTES IMPOSABLES EN FRANCE\")**\n",
    "\n",
    "Under \"Traitements, Salaires\", for the line \"Déclarant 1\", enter the name of the country from which your salary was paid (e.g. États-Unis for me) in the \"Pays d'Encaissement\" column. Then, in the \"revenu en €\" column to its right, enter your salary converted from its native currency into euros using an official conversion factor (see below). Note that the amount you enter should be your *gross* salary and only includes the portion of your salary earned *while in France*, including cash subsistence. For example, I moved to France on June 20th, so only the portion of my salary starting from that date and any cost of living adjustment (COLA) provided counts towards my income declaration. It may be helpful to refer to calculations relevant towards the Foreign Earned Income exemption in your US tax return (I documented my calculation in another [notebook](https://github.com/swang373/JupyterNotebooks/blob/master/FEICalc.ipynb)). Cash subsistence from CERN should not be included in this total, and will be dealt with in the form 2042.\n",
    "\n",
    "An official conversion factor for the year is conveniently not provided by the tax administration website, but can be calculated using data provided by the [Banque de France](https://www.banque-france.fr/nc/en/economics-statistics/rates/exchange-rates/main-daily-euro-foreign-exchange-rates-reference-rates-provided-by-the-ecb.html). I use the daily rates because they are \"reference rates provided by the ECB\", whereas the end of month and monthly average rates both have a disclaimer stating that they \"do not constitute an official reference\". Clicking on the link labelled \"US dollar\" downloads a comma-separated value file containing the daily exchange rates in USD to Euro. Taking the average of the values starting from 01/01/2015 through 12/31/2015 and ignoring rows whose values are \"ND\" (non disponible), we take the exchange rate to be:"
   ]
  },
  {
   "cell_type": "code",
   "execution_count": 1,
   "metadata": {
    "collapsed": false
   },
   "outputs": [
    {
     "name": "stdout",
     "output_type": "stream",
     "text": [
      "The official USD to Euro conversion rate for 2015: 1.10951289063\n"
     ]
    }
   ],
   "source": [
    "import pandas\n",
    "\n",
    "# Load the data for manipulation, skipping the first eight lines of the file.\n",
    "daily_xrates = pandas.read_csv('../uc.d.usd.eur.sp00.a.csv',\n",
    "                               skiprows=8,\n",
    "                               delimiter=';',\n",
    "                               names=['Date', 'Exchange Rate'],\n",
    "                               index_col=0,\n",
    "                               parse_dates=True)\n",
    "\n",
    "# Select the dates starting from 01/01/2015 through 12/31/2015.\n",
    "# Note that this slice includes the end date.\n",
    "daily_xrates_2015 = daily_xrates.loc['2015-1-1':'2015-12-31']\n",
    "\n",
    "# Remove all rows where the exchange rate was \"non disponible\".\n",
    "daily_xrates_2015 = daily_xrates_2015[daily_xrates_2015['Exchange Rate'] != 'ND']\n",
    "\n",
    "# Change the exchange rate column type from object to float.\n",
    "daily_xrates_2015['Exchange Rate'] = daily_xrates_2015['Exchange Rate'].astype(float)\n",
    "\n",
    "# Calculate the mean exchange rate for 2015.\n",
    "print('The official USD to Euro conversion rate for 2015:', daily_xrates_2015.mean()[0])"
   ]
  },
  {
   "cell_type": "markdown",
   "metadata": {},
   "source": [
    "I've found one [tax website](http://hortontaxservices.com/exchange-rate/) which seems to affirm my calculation:\n",
    "\n",
    ">For the French tax year 2016 (Revenus de 2015), the Banque de France official EUR to USD exchange rate is 1.1095, and this is the exchange rate that we will use in preparing 2015 French Income Tax Returns.\n",
    "\n",
    "I'll be using the approximation of 1.1095 as well.\n",
    "\n",
    "The remaining subsections were not applicable to me, so I skipped them."
   ]
  },
  {
   "cell_type": "markdown",
   "metadata": {},
   "source": [
    "**Signature**\n",
    "\n",
    "For French forms, the signature requires the location as well. Underneath \"À\", you would write the city (e.g. Saint-Genis-Pouilly for me). Underneath \"Le\", you would write the date in European format. Simply sign your name in the white box afterwards."
   ]
  },
  {
   "cell_type": "markdown",
   "metadata": {},
   "source": [
    "**2 Income Securities and Movable Capital Taxable in France(\"REVENUS DES VALEURS ET CAPITAUX MOBILIERS IMPOSABLES EN FRANCE\")**\n",
    "\n",
    "Skipped"
   ]
  },
  {
   "cell_type": "markdown",
   "metadata": {},
   "source": [
    "**3 Capital Gaines Taxable in France (\"PLUS VALUES IMPOSABLES EN FRANCE\")**\n",
    "\n",
    "Skipped"
   ]
  },
  {
   "cell_type": "markdown",
   "metadata": {},
   "source": [
    "**4 Income Property Taxable in France (\"REVENUS FONCIERS IMPOSABLES EN FRANCE\")**\n",
    "\n",
    "Skipped"
   ]
  },
  {
   "cell_type": "markdown",
   "metadata": {},
   "source": [
    "**5 Income from Self Employment Taxable in France (\"REVENUS DES PROFESSIONS NON SALARIÉES IMPOSABLES EN FRANCE\")**\n",
    "\n",
    "Skipped"
   ]
  },
  {
   "cell_type": "markdown",
   "metadata": {},
   "source": [
    "**6 Taxable Income Qualifying for a Tax Credit Equal to the Amount of French Tax (\"REVENUS IMPOSABLES OUVRANT DROIT À UN CRÉDIT D’IMPÔT ÉGAL AU MONTANT DE L’IMPÔT FRANÇAIS\")**\n",
    "\n",
    "This is the section where the double taxation agreement is invoked. Under \"Déclarant\", enter your name. Under \"Pays d'Encaissement\", enter the country from which your salary was paid. Under \"Nature du revenu\", enter \"Salaire\" for salary. Finally, under \"revenu avant déduction de l'impôt étranger\", enter your income before deduction of foreign taxes. The value I'm entering in this box is the same as the value I reported in the \"Traitements, Salaires\" subsection in section 1. For our \"simple\" case, I don't see a reason why they would differ."
   ]
  },
  {
   "cell_type": "markdown",
   "metadata": {},
   "source": [
    "**7 Taxable Income Qualifying for a Tax Credit Equal to the Amount of Foreign Tax (\"REVENUS IMPOSABLES OUVRANT DROIT À UN CRÉDIT D’IMPÔT ÉGAL AU MONTANT DE L’IMPÔT ÉTRANGER\")**\n",
    "\n",
    "Skipped"
   ]
  },
  {
   "cell_type": "markdown",
   "metadata": {},
   "source": [
    "**8 Exempt Income Retained for Effective Rate Calculation (\"REVENUS EXONÉRÉS RETENUS POUR LE CALCUL DU TAUX EFFECTIF\")**\n",
    "\n",
    "This section applies to other sources of income besides salaries and pensions.\n",
    "\n",
    "Skipped"
   ]
  },
  {
   "cell_type": "markdown",
   "metadata": {},
   "source": [
    "**9 Foreign Income Taxable for Social Contributions (\"REVENUS DE SOURCE ÉTRANGÈRE IMPOSABLES AUX CONTRIBUTIONS SOCIALES\")**\n",
    "\n",
    "Skipped"
   ]
  },
  {
   "cell_type": "markdown",
   "metadata": {},
   "source": [
    "# Filling Out Form 2042\n",
    "---"
   ]
  },
  {
   "cell_type": "markdown",
   "metadata": {},
   "source": [
    "**Header**\n",
    "\n",
    "If you are filing a declaration for the first time (\"Vous déposez une déclaration pour la première fois\"), check the corresponding box."
   ]
  },
  {
   "cell_type": "markdown",
   "metadata": {},
   "source": [
    "**Civil Status (\"état civil\")**\n",
    "\n",
    "This section is straightforward, though there's always Google Translate."
   ]
  },
  {
   "cell_type": "markdown",
   "metadata": {},
   "source": [
    "**Address on January 1, 2016 (\"adresse au 1er janvier 2016\")**\n",
    "\n",
    "The possible choices for status (\"Statut\") are:\n",
    "* Owner (\"propriétaire\")\n",
    "* Lodger (\"locataire\")\n",
    "* Roommate (\"colocataire\")\n",
    "* Free Accomodations (\"hébergé gratuitement\")"
   ]
  },
  {
   "cell_type": "markdown",
   "metadata": {},
   "source": [
    "**Change of Address (\"changements d’adresse\")**\n",
    "\n",
    "The first section asks for my address on January 1, 2015, which would be my university address back in the United States. The second address I'll provide is my permanent home address, as that will be the most stable address with which to reach me after I move back to the United States. The section \"4. What should I do when I leave CERN and/or my residence in France?\" in the Bellegarde questionnaire provides alternate methods of notifying the relevant SIP of an updated address."
   ]
  },
  {
   "cell_type": "markdown",
   "metadata": {},
   "source": [
    "**Contribution to Public Broadcasting (\"contribution à l’audiovisuel public\")**\n",
    "\n",
    "If any of your homes (primary or secondary) is not equipped with a television, check the box  (\"Si aucune de vos résidences (principale ou secondaire) n’est équipée d’un téléviseur, cochez la case\")."
   ]
  },
  {
   "cell_type": "markdown",
   "metadata": {},
   "source": [
    "**Registrant Signature (\"signature du ou des déclarants\")**\n",
    "\n",
    "If you are filing the declaration under a mandate, affix the seal and check the box (\"Si vous déposez la déclaration au titre d'un mandat, apposez votre cachet et cochez la case\"). Otherwise, simply do as you have on form 2047, entering the city under \"À\", the date under \"Le\", and signing your name."
   ]
  },
  {
   "cell_type": "markdown",
   "metadata": {},
   "source": [
    "**A | Tax Household Status in 2015 (\"situation du foyer fiscal en 2015\")**\n",
    "\n",
    "Complete with your marital status and/or changes to that in 2015."
   ]
  },
  {
   "cell_type": "markdown",
   "metadata": {},
   "source": [
    "**B | Single Parent (\"parent isolé\")**\n",
    "\n",
    "Skipped"
   ]
  },
  {
   "cell_type": "markdown",
   "metadata": {},
   "source": [
    "**C | Dependents in 2015 (\"personnes à charge en 2015\")**\n",
    "\n",
    "Skipped"
   ]
  },
  {
   "cell_type": "markdown",
   "metadata": {},
   "source": [
    "**D | Attachment in 2015 of Adult or Married Children (\"rattachement en 2015 d’enfants majeurs ou mariés\")**\n",
    "\n",
    "Skipped"
   ]
  },
  {
   "cell_type": "markdown",
   "metadata": {},
   "source": [
    "**E | Further Information (\"renseignements complémentaires\")**\n",
    "\n",
    "Finally, we arrive at a section where the CERN documentation is not silent. Depending on your situation, you'll have to write different statements prepared by CERN.\n",
    "\n",
    "Under \"2.1 Income received from CERN\" of the eguide, step c. instructs to write the following:\n",
    "\n",
    ">“Membre du personnel du CERN assujetti à l’impôt interne du CERN et, à ce titre, exonéré d’impôt sur les traitements et émoluments versés par le CERN.”\n",
    "\n",
    "which means \"Member of the CERN personnel subject to internal CERN taxation and therefore exempt from taxation on the salary and emoluments paid by CERN\". Don't forget to attach a copy of the annual internal taxation certificate referenced in the eguide instructions!\n",
    "\n",
    "If you are designated as a User or Associate and receive remuneration from an institute outside of France that is already taxed abroad, write the following statement in addition to the previous one:\n",
    "\n",
    ">“Membre du personnel du CERN (utilisateur/attaché non payé [User/unpaid associate, as appropriate]), de nationalité … [their nationality], rémunéré par … [paid by: name and address of their employer], imposable en … [taxable in: the country where they are liable for income tax]”\n",
    "\n",
    "For example, I would write:\n",
    "\n",
    ">\"Membre du personnel du CERN utilisateur, de nationalité américain, rémunéré par University of Florida, Suite 1250 East Campus Office Bldg, P.O. BOX 113201, Gainesville, FL 32611, imposable en États-Unis.\"\n",
    "\n",
    "I've also read in forums of people providing justifications for any calculations they've made in this box, but it's a little squeezed. I'm sending in an extra sheet of paper defending my calculations of the portion of my income taxable in France and the 2015 USD to euro exchange rate."
   ]
  },
  {
   "cell_type": "markdown",
   "metadata": {},
   "source": [
    "**1 | Salaries, Wages, Pensions, and Rent (\"traitements, salaires, pensions et rentes\")**\n",
    "\n",
    "The earnings (\"Revenus d’activité\") box (1AJ) should just be carried over from section 1 of form 2047. Below are some relevant excerpts from the CERN guides.\n",
    "\n",
    "Under \"2.1 Income received from CERN\" of the eguide, step a. instructs the following:\n",
    "\n",
    ">\"Under the heading “Traitements, Salaires” in Part 1 of the form, they must not indicate the amount of the financial and family benefits paid by CERN, which are subject to internal taxation by the Organization.\"\n",
    "\n",
    "So the value entered in this box must not include any income from CERN. From my conversation with social affairs, cash subsistence/COLA paid by CERN falls under this category.\n",
    "\n",
    "Examining the sub-section \"3.1 Users and Associates\" of the eguide and the Bellegarde questionnaire (namely questions 1 and 6), we surmise that the value entered in the box should reflect only those\n",
    "\n",
    ">\"salaries and related income: subsistence allowances, paid leave, additional salary benefits, etc.;\"\n",
    "\n",
    "which were earned during the stay in France. The calculation we did earlier in section 1 of form 2047 should've taken this into consideration."
   ]
  },
  {
   "cell_type": "markdown",
   "metadata": {},
   "source": [
    "**2 | Income from Securities and Capital (\"revenus des valeurs et capitaux mobiliers\")**\n",
    "\n",
    "Skipped"
   ]
  },
  {
   "cell_type": "markdown",
   "metadata": {},
   "source": [
    "**3 | Gains on Sale of Securities, Social Rights and Related Gains (\"plus-values de cession de valeurs mobilières, droits sociaux et gains assimilés\")**\n",
    "\n",
    "Skipped"
   ]
  },
  {
   "cell_type": "markdown",
   "metadata": {},
   "source": [
    "**4 | Property Income (\"revenus fonciers\")**\n",
    "\n",
    "Skipped"
   ]
  },
  {
   "cell_type": "markdown",
   "metadata": {},
   "source": [
    "**Exceptional or Deferred Income (\"revenus exceptionnels ou différés\")**\n",
    "\n",
    "Skipped"
   ]
  },
  {
   "cell_type": "markdown",
   "metadata": {
    "collapsed": true
   },
   "source": [
    "**6 | Deductible Expenses (\"charges déductibles\")**\n",
    "\n",
    "Skipped"
   ]
  },
  {
   "cell_type": "markdown",
   "metadata": {},
   "source": [
    "**7 | Reductions and Tax Credits (\"réductions et crédits d’impôt\")**\n",
    "\n",
    "Skipped, though apparently if you made donations or tithes that weren't cash, it may qualify here."
   ]
  },
  {
   "cell_type": "markdown",
   "metadata": {},
   "source": [
    "**8 | Miscellaneous (\"divers\")**\n",
    "\n",
    "Recall that in section 6 of form 2047, we filled in information to invoke the double taxation agreement. Whatever income was declared under that section gets carried over to box `8TK`.\n",
    "\n",
    "Under \"2.1 Income received from CERN\" of the eguide, step b. instructs to tick box `8FV`.\n",
    "\n",
    "Finally, don't forget to check box `8UU` if at any time during 2015 you opened, used, or closed a foreign bank account. This leads us into the next section about declaring foreign bank accounts."
   ]
  },
  {
   "cell_type": "markdown",
   "metadata": {},
   "source": [
    "# Declaring Foreign Bank Accounts\n",
    "---"
   ]
  },
  {
   "cell_type": "markdown",
   "metadata": {},
   "source": [
    "Apparently, failing to declare foreign bank accounts to the French tax authorities can incur heavy fines. What fun. A form 3916 must be completed for each foreign bank account you own if during the 2015 year it was opened, used, or closed. If you're completing this on a blank sheet of paper like I am, just write down the information that the form asks.\n",
    "\n",
    "The only new piece of information that the tax filer identity section asks for is your profession, so be sure to declare that on the piece of paper. You can declare the remaining fields again for completeness' sake.\n",
    "\n",
    "If you're the sole user of the account, only section 2.1 seems to be of relevance. This is the exact same response as the first two fields as section 1 combined...?\n",
    "\n",
    "Section 4, Designation of Account Open or Used Outside of France (\"DÉSIGNATION DU COMPTE OUVERT OU UTILISÉ HORS DE FRANCE\"), is the most relevant. Let's go over the information requested:\n",
    "\n",
    "* **Account Holder (\"Intitulé du compte\")**  \n",
    "  This is the name(s) of the account holder(s).\n",
    "* **Name of the Institution, Organisation, Administration, or Person that Manages the Account  \n",
    "  (\"Désignation de l’établissement, l’organisme, l’administration ou la personne gestionnaire du compte\")**  \n",
    "  For me, this is the name of my bank.\n",
    "* **Additional Designation (\"Complément de désignation\")**  \n",
    "  Not sure about this one...\n",
    "* **Address (Number and Street) (\"Adresse (n° et rue)\")**  \n",
    "  The number and street of your bank.\n",
    "* **Town and Country (\"Commune et pays\")**  \n",
    "  The city and country of your bank.\n",
    "* **Account Number (\"Numéro de compte\")**\n",
    "* **Account Type (\"Caractéristiques du compte\")**  \n",
    "  For example, checking (courant) or savings (épargne), single (simple) or joint (joint), etc.\n",
    "* **Opening Date (\"Date d’ouverture\")**  \n",
    "  The date the account was opened.\n",
    "* **Closing Date (\"Date de clôture\")**  \n",
    "  The date the account was closed.\n",
    "* **Mailing Address of the Institution, Organisation, Administration, or Person that Manages the Account if Different from those Indicated Above  \n",
    "  (\"Adresse communiquée à l’établissement, l’organisme, l’administration ou la personne gestionnaire du compte lorsqu’elle diffère de celles indiquées ci-dessus\")**\n",
    "\n",
    "After that, sign your name the usual French way at the bottom of the paper in the style requested by the end of section 4."
   ]
  },
  {
   "cell_type": "markdown",
   "metadata": {
    "collapsed": true
   },
   "source": [
    "# Mailing in Your Income Declaration\n",
    "\n",
    "The completed packet of materials needs to be sent to a particular SIP depending on where you live. Do they make this simple? Of course not! But here's how you find out.\n",
    "\n",
    "On the home page of the tax administration website, scroll to the bottom and look for \"Nous contacter:\", then click the link labelled \"Vous êtes un particulier\". Once the link has loaded, click on the drop down menu titled \"Besoin de plus d'informations, de nous contacter?\", then the link labelled \"Contacter votre service local\" which will appear below it. Type in at least the the number and street (\"voie\") and the postal code (\"code postal\") and click \"Rechercher\".\n",
    "\n",
    "Because I live in Saint-Genis-Pouilly, the search tells me that the Bellegarde SIP (\"SERVICE IMPOTS PARTICULIERS - BELLEGARDE-SUR-VALSERINE\") is the one I need to send my income declaration to. It will also display the address of the SIP:\n",
    "\n",
    ">11 RUE AMPERE  \n",
    "CS 70619  \n",
    "01206 BELLEGARDE CEDEX"
   ]
  }
 ],
 "metadata": {
  "kernelspec": {
   "display_name": "Python 3",
   "language": "python",
   "name": "python3"
  },
  "language_info": {
   "codemirror_mode": {
    "name": "ipython",
    "version": 3
   },
   "file_extension": ".py",
   "mimetype": "text/x-python",
   "name": "python",
   "nbconvert_exporter": "python",
   "pygments_lexer": "ipython3",
   "version": "3.5.1"
  }
 },
 "nbformat": 4,
 "nbformat_minor": 0
}
