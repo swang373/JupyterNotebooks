{
 "cells": [
  {
   "cell_type": "markdown",
   "metadata": {},
   "source": [
    "# Git Essential Training\n",
    "### with Kevin Skoglund"
   ]
  },
  {
   "cell_type": "markdown",
   "metadata": {},
   "source": [
    "## 2. Installing Git\n",
    "---"
   ]
  },
  {
   "cell_type": "markdown",
   "metadata": {},
   "source": [
    "- **Installing Git on a Mac**\n",
    "  \n",
    "  Navigate to http://git-scm.com/, click on Downloads and choose the Mac OS X option.\n",
    "  Checking that Git has been correctly installed is easy.\n",
    "  \n",
    "  ```bash\n",
    "  which git     # For me, this shows /usr/local/bin/git \n",
    "  git --version # Should match the version you downloaded.\n",
    "  ```"
   ]
  },
  {
   "cell_type": "markdown",
   "metadata": {},
   "source": [
    "- **Configuring Git**\n",
    "\n",
    "  There are three levels of configuration:\n",
    "  \n",
    "  ```bash\n",
    "  git config --system # system level\n",
    "  git config --global # user level, more common\n",
    "  git config          # no options for project level\n",
    "  ```\n",
    "  \n",
    "  Some basic configuration parameters, given obvious replacements, are\n",
    "  \n",
    "  ```bash\n",
    "  git config --global user.name \"Your Name\"\n",
    "  git config --global user.email \"your@email.here\"\n",
    "  git config --global core.editor \"vim\" # use your favorite text editor\n",
    "  git config --global core.ui true      # for colored output\n",
    "  \n",
    "  # To check ALL current configuration parameters\n",
    "  git config --list\n",
    "  \n",
    "  # Or simply check individual parameters\n",
    "  git config user.name\n",
    "  git config core.editor\n",
    "  ```"
   ]
  },
  {
   "cell_type": "markdown",
   "metadata": {},
   "source": [
    "- **Exploring Git Auto-Completion**\n",
    "\n",
    "  Download the git-completion bash script to your home directory and then hide it.\n",
    "  \n",
    "  ```bash\n",
    "  cd ~\n",
    "  curl -OL https://raw.githubusercontent.com/git/git/master/contrib/completion/git-completion.bash\n",
    "  mv ~/git-completion.bash ~/.git-completion.bash\n",
    "  ```\n",
    "  \n",
    "  Append the following lines to your .bash_profile or .bashrc, whichever makes more sense.\n",
    "  \n",
    "  ```bash\n",
    "  if [ -f ~/.git-completion.bash ]; then\n",
    "      source ~/.git-completion.bash\n",
    "  fi\n",
    "  ```"
   ]
  },
  {
   "cell_type": "markdown",
   "metadata": {},
   "source": [
    "## 3. Getting Started\n",
    "---"
   ]
  },
  {
   "cell_type": "markdown",
   "metadata": {},
   "source": [
    "- **Initializing a Repository**\n",
    "\n",
    "  ```bash\n",
    "  # Initializes an empty Git repository\n",
    "  git init\n",
    "  ```"
   ]
  },
  {
   "cell_type": "markdown",
   "metadata": {},
   "source": [
    "- **Performing Your First Commit**\n",
    "\n",
    "  Given you have a file or files you'd like to commit, the standard procedure follows.\n",
    "\n",
    "  ```bash\n",
    "  # Add a specific file in the local working area\n",
    "  git add your.file\n",
    "  # or add all the files in the local working area\n",
    "  git add .\n",
    "  \n",
    "  # Commit these changes to the Git repository\n",
    "  # The -m option passes the commit message with the \n",
    "  # command, rather than through the text editor.\n",
    "  git commit -m \"Initial commit\"\n",
    "  ```"
   ]
  },
  {
   "cell_type": "markdown",
   "metadata": {},
   "source": [
    "- **Writing Commit Messages**\n",
    "\n",
    "  Some best practices to keep in mind about commit messages are:\n",
    "  \n",
    "    * A short, single-line summary (< 50 characters). \n",
    "      This can optionally be followed by a blank line and then a more detailed description.\n",
    "    * Keep each line to < 72 characters.\n",
    "    * Write commit messages in the present tense, rather than past tense.\n",
    "    * Bullet points are usually asterisks or hyphens.\n",
    "    * Adding \"ticket tracking numbers\" from bugs or support requests provides specificity.\n",
    "    * Develop a shorthand convention with other collaborators for organization.\n",
    "    * Just remember to be clear and descriptive."
   ]
  },
  {
   "cell_type": "markdown",
   "metadata": {},
   "source": [
    "- **Viewing the Commit Log**\n",
    "\n",
    "  ```bash\n",
    "  # To view a log of commits\n",
    "  git log\n",
    "  \n",
    "  # Some example options (check the man page for more)\n",
    "  \n",
    "  git log -n 5               # check the five most recent commits\n",
    "  git log --since=2015-11-14 # check commits since a given date\n",
    "  git log --until=2015-11-15 # check commits until a given date\n",
    "  git log --author=\"You\"     # check commits by author\n",
    "  git log --grep=\"Init\"      # check commits by commit message\n",
    "  ```"
   ]
  },
  {
   "cell_type": "markdown",
   "metadata": {
    "collapsed": true
   },
   "source": [
    "## 4. Git Concepts and Architecture\n",
    "---"
   ]
  },
  {
   "cell_type": "markdown",
   "metadata": {},
   "source": [
    "- **Exploring the Three-Trees**\n",
    "\n",
    "  The Git paradigm is tiered into three areas known as\n",
    "  \n",
    "  1. Working\n",
    "  2. Staging Index\n",
    "  3. Repository\n",
    "  \n",
    "  The working area is where files are created, modified, or deleted locally. The staging index is where files to be commited are first added (using `git add`). There may be more benefits, but I see the implementation of a staging index as a flexible way to add changes in the local repository on an individual file basis. The final area is the repository which Git maintains, where changes added to the staging area are commited (using `git commit`). The repository tracks all the commits made as different snapshots of the project."
   ]
  },
  {
   "cell_type": "markdown",
   "metadata": {},
   "source": [
    "- **Using Hash Values (SHA-1)**\n",
    "  \n",
    "  Git generates a checksum for each change set using the SHA-1 hash algorithm (40 character hexadecimal string)."
   ]
  },
  {
   "cell_type": "markdown",
   "metadata": {},
   "source": [
    "- **Working with the HEAD Pointer**\n",
    "  \n",
    "  HEAD points to the \"tip\" of the current branch in the repository, or the last state of the repository/what was last checked out."
   ]
  },
  {
   "cell_type": "markdown",
   "metadata": {},
   "source": [
    "## 5. Making Changes to Files\n",
    "---"
   ]
  },
  {
   "cell_type": "markdown",
   "metadata": {},
   "source": [
    "- **Adding Files**\n",
    "\n",
    "  ```bash\n",
    "  # Report differences between the working area,\n",
    "  # staging index, and the repository\n",
    "  git status\n",
    "  \n",
    "  # We've seen this before, and it's as easy as\n",
    "  git add file1.py file2.cc\n",
    "  git commit -m \"Source code beyond the initial commit\"\n",
    "  ```"
   ]
  },
  {
   "cell_type": "markdown",
   "metadata": {},
   "source": [
    "- **Editing Files**\n",
    "\n",
    "  Once a file is modified, it can be staged and commited as shown above."
   ]
  },
  {
   "cell_type": "markdown",
   "metadata": {},
   "source": [
    "- **Viewing Changes with `diff`**\n",
    "\n",
    "  To compare any differences between the working area against both HEAD and the staging index, using `git diff` will intelligently show changed lines. In the output, `---` means the old version, while `+++` means the new version.\n",
    "  \n",
    "  ```bash\n",
    "  # To report changes to any and all files\n",
    "  git diff\n",
    "  \n",
    "  # To report changes to a single file\n",
    "  git diff single_file.txt\n",
    "  ```"
   ]
  },
  {
   "cell_type": "markdown",
   "metadata": {},
   "source": [
    "- **Viewing Only Staged Changes**\n",
    "\n",
    "  ```bash\n",
    "  # To compare any differences between\n",
    "  # HEAD and the staging index\n",
    "  git diff --staged\n",
    "  ```"
   ]
  },
  {
   "cell_type": "markdown",
   "metadata": {},
   "source": [
    "- **Deleting Files**\n",
    "\n",
    "  You can delete a file though the file system and Git will detect that it is missing from the   working area. You'll have to stage that change, however, in a manner equivalent to adding a   file.\n",
    "\n",
    "  ```bash\n",
    "  rm red_shirt.txt\n",
    "  git rm red_shirt.txt\n",
    "  git commit -m \"Delete the red shirt file.\"\n",
    "  ```\n",
    "  \n",
    "  Conveniently, deleting a file through Git automatically stages that change, so this      procedure may be shortened to.\n",
    "  \n",
    "  ```bash\n",
    "  git rm red_shirt.txt\n",
    "  git commit -m \"Efficiently delete the red shirt file.\"\n",
    "  ```"
   ]
  },
  {
   "cell_type": "markdown",
   "metadata": {},
   "source": [
    "- **Moving and Renaming Files**\n",
    "\n",
    "  Renaming files through the file system will cause Git to complain that the file was deleted.   After you stage the removal of the old file and add the new file, Git will recognize that the new file was merely renamed if the data within is sufficiently similar to that of the old file.\n",
    "  \n",
    "  ```bash\n",
    "  mv red_shirt.txt yellow_shirt.txt\n",
    "  git add yellow_shirt.txt\n",
    "  git rm red_shirt.txt\n",
    "  git commit -m \"Rename red shirt file to yellow shirt.\"\n",
    "  ```\n",
    "  \n",
    "  As you've guessed, the more convenient way is to move and rename through Git.\n",
    "  \n",
    "  ```bash\n",
    "  git mv red_shirt.txt yellow_shirt.txt\n",
    "  git commit -m \"Efficiently rename red shirt file to yellow shirt.\"\n",
    "  ```"
   ]
  },
  {
   "cell_type": "markdown",
   "metadata": {},
   "source": [
    "## 6. Using Git with a Real Project\n",
    "---"
   ]
  },
  {
   "cell_type": "markdown",
   "metadata": {},
   "source": [
    "Kevin performs a nice demo of using Git with a website as the project. Most of the commands follow from stuff we've done before, but I'll leave some of the cool things I noted below.\n",
    "\n",
    "  - When using `git diff` interactively, typing Minus sign (-)-Shift-S-Return will toggle the folding of long lines on or off.\n",
    "  - Rather than showing changes on different lines, the output may be displayed compactly on the same line with changes emphasized with different colors.\n",
    "  ```bash\n",
    "  git diff --color-words changed_file.php\n",
    "  ```\n",
    "  - The `-a` option for `git commit` is a fast way to stage and commit all modified and deleted files in one go, but it won't add new files."
   ]
  },
  {
   "cell_type": "markdown",
   "metadata": {},
   "source": [
    "## 7. Undoing Changes\n",
    "---"
   ]
  },
  {
   "cell_type": "markdown",
   "metadata": {},
   "source": [
    "- **Undoing Working Directory Changes**\n",
    "  \n",
    "  ```bash\n",
    "  # Revert a modified file in your working\n",
    "  # area to the version from HEAD\n",
    "  git checkout modified.js\n",
    "  ```\n",
    "  \n",
    "  What if you want to revert a directory? The `git checkout` command is also used to checkout branches, which will be discussed later. This could potentially cause a conflict is a branch and a directory share the same name. The solution follows.\n",
    "  \n",
    "  ```bash\n",
    "  # The double dash tells Git to stay on the\n",
    "  # current branch and checkout what follows.\n",
    "  git checkout -- include/\n",
    "  ```"
   ]
  },
  {
   "cell_type": "markdown",
   "metadata": {},
   "source": [
    "- **Unstaging Files**\n",
    "\n",
    "  If a modified file has been staged and we don't want to lose the changes made to it in the working area by checking it out, it can be unstaged.\n",
    "\n",
    "  ```bash\n",
    "  git reset HEAD unstage.html\n",
    "  ```"
   ]
  },
  {
   "cell_type": "markdown",
   "metadata": {
    "collapsed": true
   },
   "source": [
    "- **Amending Commits**\n",
    "\n",
    "  Subsequent commits refer to the SHA-1 of the parent commit, or the commit just before it. Changing the message of a commit changes its SHA-1, and this can affect the data integrity of the repository by breaking references to parent commits. However, the most recent commit referenced by HEAD may be editted, having no commits which depend on it. \n",
    "  \n",
    "  Suppose a commit was just made, but something small was awry, such as a typo. Rather than making a new commit, it would be cleaner to amend the previous commit.\n",
    "  \n",
    "  ```bash\n",
    "  # You still have to stage the modified file.\n",
    "  git add list_of_items.json\n",
    "  git commit --amend -m \"You can use the same message as the previous commit.\"\n",
    "  \n",
    "  # This is how commit messages are changed as well.\n",
    "  git commit --amend -m \"Better, more descriptive message.\"\n",
    "  ```"
   ]
  },
  {
   "cell_type": "markdown",
   "metadata": {},
   "source": [
    "- **Retrieving Old Versions**\n",
    "\n",
    "  To revert a file to its old state many commits ago, find a commit where that file was in the desired state and copy the SHA-1 of that commit through the commit log. That SHA-1 can then be used to revert that file's state.\n",
    "  \n",
    "  Suppose changes to a file were commited some commits ago, with the SHA-1 of the commit with that change being da38660bbc..., and we want to revert that file's state to that of an even earlier commit, with the SHA-1 of the commit with that old state being 2907d12603...\n",
    "  \n",
    "  ```bash\n",
    "  git checkout 2907d12603 -- example.m\n",
    "  # This old version is placed in the\n",
    "  # staging index, not the working area.\n",
    "  git commit -m \"This commit reverts change made in commit da38660bbc\"\n",
    "  ```"
   ]
  },
  {
   "cell_type": "markdown",
   "metadata": {},
   "source": [
    "- **Reverting a Commit**\n",
    "\n",
    "  If we want to revert entire commits rather than versions of individual files, there's a convenient way to do so. `git revert` will revert all the changes and automatically make a new commit.\n",
    "  \n",
    "  ```bash\n",
    "  # Suppose we want to revert the commit with SHA-1 da38660bbc\n",
    "  # You'll have the chance to modify the commit message.\n",
    "  git revert da38660bbc\n",
    "  \n",
    "  # The -n option will revert without making a new commit.\n",
    "  git revert -n da38660bbc\n",
    "  ```\n",
    "  \n",
    "  This is great for reverting simple changes, but if files have moved or there have been significantly more complicated changes, merging will have to be done."
   ]
  },
  {
   "cell_type": "markdown",
   "metadata": {},
   "source": [
    "- **Using `reset` to Undo Many Commits**\n",
    "\n",
    "  *DANGEROUS! USE WITH EXTREME CAUTION!*\n",
    "  \n",
    "  What is dangerous about `git reset`? Didn't we use it already? True, but the previous context was to unstage a file (see **Unstaging Files**), and its syntax was slightly different. \n",
    "  \n",
    "  Here, the command `git reset <commit>` will always move the HEAD pointer to the specified commit, but with different modes:\n",
    "  \n",
    "    - --soft, \n",
    "      Does not change the staging index or working directory, the safest option.\n",
    "    - --mixed (default), \n",
    "      Changes staging index to match repository, but does not change the working directory.\n",
    "    - --hard, \n",
    "      Changes staging index and working directory to match the repository. Once a commit is made after such a reset, old commits past it are abandoned and will eventually be garbage collected.\n",
    "      \n",
    "  When working with `git reset` it's not a bad idea to make a backup of the commit log before the reset, in case the SHA-1 values of commits past the reset are needed."
   ]
  },
  {
   "cell_type": "markdown",
   "metadata": {},
   "source": [
    "- **Removing Untracked Files**\n",
    "\n",
    "  To remove untracked files from a working area, such as log files or compiled files, use the `git clean` command. Note that files in the staging area are not affected.\n",
    "  \n",
    "  ```bash\n",
    "  # The -n option tells you what would be cleaned\n",
    "  git clean -n\n",
    "  # If you're happy with what would be cleaned,\n",
    "  # the -f option forces it to run\n",
    "  git clean -f\n",
    "  ```"
   ]
  },
  {
   "cell_type": "markdown",
   "metadata": {},
   "source": [
    "## 8. Ignoring Files\n",
    "---"
   ]
  },
  {
   "cell_type": "markdown",
   "metadata": {},
   "source": [
    "- **Using .gitignore Files**\n",
    "\n",
    "  A .gitignore file placed in the root directory of the project will provide a set of rules for which files Git will ignore. \n",
    "  \n",
    "  Basic regular expressions may be used, such as\n",
    "  - *\n",
    "  - ?\n",
    "  - [aeiou]\n",
    "  - [0-9], e.g. `*.log.[0-9]` will ignore log files whose suffix is in that range.\n",
    "  \n",
    "  Expressions can be negated with \"!\".\n",
    "  ```bash\n",
    "  *.php      # ignore all files with extension .php\n",
    "  !index.php # but don't ignore index.php\n",
    "  ```\n",
    "  \n",
    "  Ignore all files in a directory using a trailing slash.\n",
    "  ```bash\n",
    "  logs/\n",
    "  ```\n",
    "  \n",
    "  Comment lines begin with \"#\", while blank lines are skipped."
   ]
  },
  {
   "cell_type": "markdown",
   "metadata": {},
   "source": [
    "- **Understanding What to Ignore**\n",
    "\n",
    "  Categories of files to ignore could include\n",
    "    - compiled source code\n",
    "    - packages and compressed files, disk images\n",
    "    - logs and databases, files that change often\n",
    "    - operating system generated files\n",
    "    - user-uploaded assets (images, pdf's, videos)\n",
    "    \n",
    "  The official GitHub [help page](https://help.github.com/articles/ignoring-files/) on ignoring files provides a good overview, as well as the many examples on github's [own repository](https://github.com/github/gitignore)."
   ]
  },
  {
   "cell_type": "markdown",
   "metadata": {},
   "source": [
    "- **Ignoring Files Globally**\n",
    "\n",
    "  A user-specific rather than repository-specific ignore rule can also be set.\n",
    "  \n",
    "  ```bash\n",
    "  # The global ignore rule file can be named anything\n",
    "  # and placed anywhere. Suppose its called .gitignore_global\n",
    "  # and is placed in your home directory\n",
    "  git config --global core.excludesfile ~/.gitignore_global\n",
    "  ```"
   ]
  },
  {
   "cell_type": "markdown",
   "metadata": {},
   "source": [
    "- **Ignoring Tracked Files**\n",
    "\n",
    "  If a file already tracked by Git is placed in the .gitignore list explicitly, changes made to that file will still cause Git to mention that it was modified. There is a way to tell Git to ignore that tracked file and still keep it as part of the repository.\n",
    "  \n",
    "  ```bash\n",
    "  # This removes the file from the staging index but\n",
    "  # leaves a copy in the repository and working area\n",
    "  git rm --cached the_file.dat\n",
    "  ```"
   ]
  },
  {
   "cell_type": "markdown",
   "metadata": {},
   "source": [
    "- **Tracking Empty Directories**\n",
    "\n",
    "  Git will only track directories if its along a path to a file, being a file-tracking system. The cheat to get around this to track an empty directory is to create a `.gitkeep` file with no content in it.\n",
    "  \n",
    "  ```bash\n",
    "  # Say we want to track the empty directory tmp/\n",
    "  # This is enough for Git to see the empty directory\n",
    "  touch tmp/.gitkeep\n",
    "  ```"
   ]
  },
  {
   "cell_type": "markdown",
   "metadata": {},
   "source": [
    "## 9. Navigating the Commit Tree\n",
    "---"
   ]
  },
  {
   "cell_type": "markdown",
   "metadata": {},
   "source": [
    "- **Referencing Commits**\n",
    "\n",
    "  The structure of files in a Git repository is a tree (wheras the files themselves are called blobs). The concept of something being \"tree-ish\" in Git is that it references part of the tree. In simplest terms, it references a commit.\n",
    "  \n",
    "  ***tree-ish***\n",
    "  - full SHA-1 hash\n",
    "  - short SHA-1 hash\n",
    "    + at least 4 \n",
    "    + unambiguous (8-10 characters)\n",
    "  - HEAD pointer\n",
    "  - branch reference, tag reference\n",
    "  - the ancestry of any of the previous objects\n",
    "    + ^, parent of (HEAD^ or master^)\n",
    "    + ~#, generations above (HEAD~1 == HEAD~ == HEAD^)\n",
    "    + ^^, parent of the parent of (HEAD^^ == HEAD~2)"
   ]
  },
  {
   "cell_type": "markdown",
   "metadata": {},
   "source": [
    "- **Exploring Tree Listings**\n",
    "\n",
    "  ```bash\n",
    "  # To list the contents of a tree-ish\n",
    "  git ls-tree HEAD\n",
    "  git ls-tree master^\n",
    "  \n",
    "  # To list the directory contents of a tree-ish\n",
    "  git ls-tree master src/\n",
    "  ```"
   ]
  },
  {
   "cell_type": "markdown",
   "metadata": {},
   "source": [
    "- **Getting More from the Commit Log**\n",
    "\n",
    "  ```bash\n",
    "  # To see each commit as a single line\n",
    "  # returns a short SHA-1\n",
    "  git log --oneline\n",
    "  \n",
    "  # To see the full SHA-1\n",
    "  git log --format=oneline\n",
    "  # possible --format options are\n",
    "  # short, medium (default), full, fuller, email, raw\n",
    "  \n",
    "  # To see the last 3 commits as a single line\n",
    "  git log --oneline -3\n",
    "  \n",
    "  # Remember --since and --until?\n",
    "  # They can take descriptive strings!\n",
    "  # The following are equivalent.\n",
    "  git log --since=\"2 weeks ago\" --until=\"3 days ago\"\n",
    "  git log --since=2.weeks --until=3.days\n",
    "  \n",
    "  # To check a range of commits\n",
    "  git log 2907d12..acf8750 --oneline\n",
    "  \n",
    "  # To check the history of a particular\n",
    "  # file since a given commit\n",
    "  git log c4b913e.. index.html\n",
    "  \n",
    "  # To see a more detailed view of what\n",
    "  # happened to each file, use the patch option\n",
    "  git log -p\n",
    "  \n",
    "  # To get an idea of what changed and how with less detail\n",
    "  git log --stat --summary\n",
    "  \n",
    "  # To see a pictoral representation of commits\n",
    "  # that's helpful when branching and merging\n",
    "  git log --graph\n",
    "  \n",
    "  # A compact graphical summary format.\n",
    "  git log --oneline --graph --all --decorate\n",
    "  ```"
   ]
  },
  {
   "cell_type": "markdown",
   "metadata": {},
   "source": [
    "- **Viewing Commits**\n",
    "\n",
    "  ```bash\n",
    "  # Showing details of a commit\n",
    "  git show cdae0ed07f\n",
    "  git show --format=oneline HEAD\n",
    "  \n",
    "  # Showing the contents of a tree\n",
    "  # Suppose the tree object src/\n",
    "  # has SHA-1 6fa98b8493\n",
    "  git show 6fa98b8493\n",
    "  \n",
    "  # Showing the contents of a blob\n",
    "  # Suppose the blob object index.html\n",
    "  # has SHA-1 409068c104\n",
    "  git show 409068c104\n",
    "  \n",
    "  # Note that git show index.html wouldn't work\n",
    "  # because the command expects a tree-ish\n",
    "  ```"
   ]
  },
  {
   "cell_type": "markdown",
   "metadata": {},
   "source": [
    "- **Comparing Commits**\n",
    "\n",
    "  ```bash\n",
    "  # To compare your directory as it is now\n",
    "  # to the state of a previous commit\n",
    "  git diff cdae0ed\n",
    "  git diff cdae0ed index.php # for a specific file  \n",
    "  \n",
    "  # To compare differences across a range of commits\n",
    "  git diff cf78db8..cdae0ed\n",
    "  git diff cf78db8..cdae0ed index.php # for a specific file\n",
    "  \n",
    "  # For an overview of what changed over a range of commits\n",
    "  git diff --stat --summary 1506576..HEAD\n",
    "  \n",
    "  # The --ignore-space-change or -b option\n",
    "  # ignores changes to whitespace\n",
    "  \n",
    "  # The --ignore-all-space or -w option\n",
    "  # ignores all whitespaces\n",
    "  ```"
   ]
  },
  {
   "cell_type": "markdown",
   "metadata": {},
   "source": [
    "## 10. Branching\n",
    "---"
   ]
  },
  {
   "cell_type": "code",
   "execution_count": null,
   "metadata": {
    "collapsed": true
   },
   "outputs": [],
   "source": []
  }
 ],
 "metadata": {
  "kernelspec": {
   "display_name": "Python 2",
   "language": "python",
   "name": "python2"
  },
  "language_info": {
   "codemirror_mode": {
    "name": "ipython",
    "version": 2
   },
   "file_extension": ".py",
   "mimetype": "text/x-python",
   "name": "python",
   "nbconvert_exporter": "python",
   "pygments_lexer": "ipython2",
   "version": "2.7.10"
  }
 },
 "nbformat": 4,
 "nbformat_minor": 0
}
