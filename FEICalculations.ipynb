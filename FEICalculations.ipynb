{
 "cells": [
  {
   "cell_type": "markdown",
   "metadata": {},
   "source": [
    "# Foreign Earned Income Exclusion Calculations"
   ]
  },
  {
   "cell_type": "markdown",
   "metadata": {},
   "source": [
    "According to TurboTax,\n",
    ">If you started or ended a job in a foreign country at any point during 2015, you will need to allocate, or clearly designate, what you earned abroad and what was earned at home...\n",
    "\n",
    ">**How to allocate your income**\n",
    "\n",
    ">First, determine the number of days you worked during 2015 before the foreign job started or after it ended. Divide that number by the total days you worked during the entire year. Then, multiply the result by your 2015 income. The result is the amount you earned before or after the foreign job. You must deduct this amount from your earned income before you figure out how much of your income can be applied to the foreign earned income exclusion. We'll help you with this in TurboTax."
   ]
  },
  {
   "cell_type": "markdown",
   "metadata": {},
   "source": [
    "**Total Days Worked in 2015**\n",
    "\n",
    "It's generally understood that a year consists of 365 days, and the year 2015 was no exception.\n",
    "\n",
    "The US government observed ten [federal holidays in 2015](https://www.opm.gov/policy-data-oversight/snow-dismissal-procedures/federal-holidays/#url=2015). In truth, I only observed New Year's and Christmas this year (yes, I'm lame). I also neglect the federal holidays observed along the Franco-Swiss border because I was working to some degree on all of those dates (fine, I'm very lame).\n",
    "\n",
    "It's virtually certain that graduate students in high-energy physics are working on Saturdays, so those are considered work days in the following calculations. However, Sundays will not be considered as work days because I'm supposed to keep the sabbath."
   ]
  },
  {
   "cell_type": "code",
   "execution_count": 3,
   "metadata": {
    "collapsed": false
   },
   "outputs": [
    {
     "name": "stdout",
     "output_type": "stream",
     "text": [
      "Total Number of Days in 2015: 365\n",
      "Total Number of Sundays in 2015: 52\n",
      "Total Number of Working Days in 2015: 311\n",
      "Total Number of Working Days in 2015 (Before Foreign Job): 170\n"
     ]
    }
   ],
   "source": [
    "import datetime\n",
    "\n",
    "def daterange(start_date=None, end_date=None, include_end_date=True):\n",
    "    \"\"\"\n",
    "    Inspired by this stackoverflow discussion:\n",
    "    http://stackoverflow.com/questions/1060279.\n",
    "    \n",
    "    Parameters\n",
    "    ----------\n",
    "    start_date : datetime.date\n",
    "        The start date of the date range.\n",
    "    end_date : datetime.date\n",
    "        The end date of the date range.\n",
    "    include_end_date : bool\n",
    "        Whether or not the end date is included in the rate.\n",
    "        The default is True.\n",
    "        \n",
    "    Returns\n",
    "    -------\n",
    "    generator\n",
    "        A generator function which yields consecutive\n",
    "        dates between the given date boundaries.\n",
    "    \"\"\"\n",
    "    number_of_days = (end_date - start_date).days\n",
    "    \n",
    "    # The days attribute of a timedelta object returned by the\n",
    "    # difference of date objects excludes the end date. To include\n",
    "    # the end date, increment the number of days.\n",
    "    if include_end_date:\n",
    "        number_of_days += 1\n",
    "        \n",
    "    for n in range(number_of_days):\n",
    "        yield start_date + datetime.timedelta(n)\n",
    "\n",
    "# The start and end dates of 2015.\n",
    "start_date = datetime.date(year=2015, month=1, day=1)\n",
    "end_date = datetime.date(year=2015, month=12, day=31)\n",
    "\n",
    "# How many days were in 2015? (Hint: This should equal 365.)\n",
    "n_days = sum(1 for date in daterange(start_date, end_date))\n",
    "print('Total Number of Days in 2015:', n_days)\n",
    "\n",
    "# How many Sundays were in 2015?\n",
    "# According to documentation for date.weekday():\n",
    "# Return the day of the week as an integer, where Monday is 0 and Sunday is 6.\n",
    "n_sundays = sum(1 for date in daterange(start_date, end_date) if date.weekday() == 6)\n",
    "print('Total Number of Sundays in 2015:', n_sundays)\n",
    "\n",
    "# How many working days were in 2015?\n",
    "# Remember, I'm disregarding Sundays and the two holidays\n",
    "# that I observed out of the ten US federal holidays.\n",
    "n_workdays = n_days - n_sundays - 2\n",
    "print('Total Number of Working Days in 2015:', n_workdays)\n",
    "\n",
    "# How many days did I work in the United States\n",
    "# prior to relocating and starting my foreign job?\n",
    "relocation_date = datetime.date(year=2015, month=6, day=20)\n",
    "n_workdays_US = sum(1 for date in daterange(start_date, end_date) if date < relocation_date)\n",
    "print('Total Number of Working Days in 2015 (Before Foreign Job):', n_workdays_US)"
   ]
  },
  {
   "cell_type": "markdown",
   "metadata": {},
   "source": [
    "Apparently, I've worked a total of **311** days in 2015. Since I relocated to CERN on June 19, 2015, **170** of those total working days were spent in the United States.\n",
    "\n",
    "Suppose that my graduate research assistant salary is $22,000 for the following calculation."
   ]
  },
  {
   "cell_type": "code",
   "execution_count": 5,
   "metadata": {
    "collapsed": false
   },
   "outputs": [
    {
     "name": "stdout",
     "output_type": "stream",
     "text": [
      "Earnings (Before Foreign Job): 12025.72347266881\n"
     ]
    }
   ],
   "source": [
    "salary = 22000\n",
    "n_workdays_US = 170.\n",
    "n_workdays = 311.\n",
    "\n",
    "earnings_US = (n_workdays_US / n_workdays) * salary\n",
    "print('Earnings (Before Foreign Job):', earnings_US)"
   ]
  },
  {
   "cell_type": "markdown",
   "metadata": {},
   "source": [
    "So $12,025 must be deducted from my total income in 2015. What remains is what the Foreign Earned Income (FEI) credit can potentially exempt."
   ]
  },
  {
   "cell_type": "code",
   "execution_count": null,
   "metadata": {
    "collapsed": true
   },
   "outputs": [],
   "source": []
  }
 ],
 "metadata": {
  "kernelspec": {
   "display_name": "Python 3",
   "language": "python",
   "name": "python3"
  },
  "language_info": {
   "codemirror_mode": {
    "name": "ipython",
    "version": 3
   },
   "file_extension": ".py",
   "mimetype": "text/x-python",
   "name": "python",
   "nbconvert_exporter": "python",
   "pygments_lexer": "ipython3",
   "version": "3.5.1"
  }
 },
 "nbformat": 4,
 "nbformat_minor": 0
}
