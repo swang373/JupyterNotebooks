{
 "cells": [
  {
   "cell_type": "markdown",
   "metadata": {
    "collapsed": true
   },
   "source": [
    "# Transforming Code into Beautiful, Idiomatic Python\n",
    "### with Raymond Hettinger"
   ]
  },
  {
   "cell_type": "markdown",
   "metadata": {},
   "source": [
    "## 1. Looping Idioms\n",
    "---"
   ]
  },
  {
   "cell_type": "markdown",
   "metadata": {},
   "source": [
    "Python's `for` is different from other languages' `for` in that it loops over collections. It may be clearer to regard that keyword as \"for each\"."
   ]
  },
  {
   "cell_type": "markdown",
   "metadata": {},
   "source": [
    "```python\n",
    "# Looping over a list of numbers is straight-forward.\n",
    "for i in [0, 1, 2, 3, 4, 5]:\n",
    "    print i**2\n",
    "\n",
    "# The list is a range of numbers, so this is more clear.\n",
    "for i in range(6):\n",
    "    print i**2\n",
    "\n",
    "# If the list is large, it will consume a lot of memory.\n",
    "# The best practice in Python 2 is to use the built-in\n",
    "# xrange, which returns a generator expression that lazily\n",
    "# computes the following item in the collection.\n",
    "for i in xrange(6):\n",
    "    print i**2\n",
    "```"
   ]
  },
  {
   "cell_type": "markdown",
   "metadata": {},
   "source": [
    "```python\n",
    "# Looping over a collection.\n",
    "colors = ['red', 'green', 'blue', 'yellow']\n",
    "\n",
    "for color in colors:\n",
    "    print color\n",
    "    \n",
    "# How about looping backwards?\n",
    "for color in reversed(colors):\n",
    "    print color\n",
    "    \n",
    "# And looping over items and their indices?\n",
    "for i, color in enumerate(colors):\n",
    "    print i, '-->', color\n",
    "```"
   ]
  },
  {
   "cell_type": "markdown",
   "metadata": {},
   "source": [
    "```python\n",
    "# Looping over two collections.\n",
    "names = ['raymond', 'rachel', 'matthew']\n",
    "\n",
    "for name, color in zip(names, colors):\n",
    "    print name, '-->', color\n",
    "    \n",
    "# But this creates a new collection of tuples in memory,\n",
    "# which doesn't scale well to larger collections. Rather,\n",
    "# the izip function is preferred, returning a generator.\n",
    "import itertools\n",
    "\n",
    "for name, color in itertools.izip(names, colors):\n",
    "    print name, '-->', color\n",
    "```"
   ]
  },
  {
   "cell_type": "markdown",
   "metadata": {},
   "source": [
    "```python\n",
    "# Looping in sorted order.\n",
    "for color in sorted(colors):\n",
    "    print color\n",
    "\n",
    "# And reverse sorted order?\n",
    "for color in sorted(colors, reverse=True):\n",
    "    print color\n",
    "```"
   ]
  },
  {
   "cell_type": "markdown",
   "metadata": {},
   "source": [
    "```python\n",
    "# Looping with a custom sort order.\n",
    "# Rather than creating a custom comparison function\n",
    "# in the likes of qsort, specify the key function to sort.\n",
    "# In regards to efficiency, this key is called once per element.\n",
    "print sorted(colors, key=len)\n",
    "```"
   ]
  },
  {
   "cell_type": "markdown",
   "metadata": {},
   "source": [
    "```python\n",
    "# Calling a function until a sentinel value.\n",
    "\n",
    "# The following loop reads a file in blocks of 32 bytes until\n",
    "# empty string is reached, appending each block to a list.\n",
    "import functools\n",
    "\n",
    "blocks = []\n",
    "for block in iter(functools.partial(f.read, 32), ''):\n",
    "    blocks.append(block)\n",
    "\n",
    "# The first argument of iter is a function of zero arguments.\n",
    "```"
   ]
  },
  {
   "cell_type": "markdown",
   "metadata": {},
   "source": [
    "```python\n",
    "# Distinguishing multiple exit points in loops.\n",
    "# else clauses on for loops.\n",
    "def find(seq, target):\n",
    "    for i, value in enumerate(seq):\n",
    "        if value == target:\n",
    "            break\n",
    "    else:\n",
    "        return -1\n",
    "    return 1\n",
    "```"
   ]
  },
  {
   "cell_type": "markdown",
   "metadata": {},
   "source": [
    "## 2. Dictionary Skills\n",
    "---"
   ]
  },
  {
   "cell_type": "markdown",
   "metadata": {},
   "source": [
    "```python\n",
    "d = {'matthew': 'blue', 'rachel': 'green', 'raymond': 'red'}\n",
    "\n",
    "# Looping over keys.\n",
    "for k in d:\n",
    "    print k\n",
    "    \n",
    "# What about looping over the keys with the\n",
    "# purpose of mutating the dictionary?\n",
    "for k in d.keys():\n",
    "    if k.startswith('r'):\n",
    "        del d[k]\n",
    "\n",
    "# This can be expressed as a dictionary comprehension.\n",
    "d = {k : d[k] for k in d if not k.startswith('r')}\n",
    "```"
   ]
  },
  {
   "cell_type": "markdown",
   "metadata": {},
   "source": [
    "```python\n",
    "# Looping over keys and values.\n",
    "for k, v in d.iteritems():\n",
    "    print k, '-->', v\n",
    "# As you may suspect, the iteritems() method is preferred\n",
    "# over the items() method because it returns a generator.\n",
    "```"
   ]
  },
  {
   "cell_type": "markdown",
   "metadata": {},
   "source": [
    "```python\n",
    "# Construct a dictionary from pairs.\n",
    "import itertools\n",
    "\n",
    "names = ['raymond', 'rachel', 'matthew']\n",
    "colors = ['red', 'green', 'blue']\n",
    "\n",
    "d = dict(itertools.izip(names, colors))\n",
    "```"
   ]
  },
  {
   "cell_type": "markdown",
   "metadata": {},
   "source": [
    "```python\n",
    "# Counting with dictionaries.\n",
    "colors = ['red', 'green', 'red', 'blue', 'green' ,'red']\n",
    "\n",
    "d = {}\n",
    "for color in colors:\n",
    "    if color not in d:\n",
    "        d[color] = 0\n",
    "    d[color] += 1\n",
    "    \n",
    "# The basic way works and is well-defined, because the key\n",
    "# we are accessing should exist in the dictionary. A better\n",
    "# way is to use get, which allows a default value should\n",
    "# the key not exist.\n",
    "\n",
    "d= {}\n",
    "for color in colors:\n",
    "    d[color] = d.get(color, 0) + 1\n",
    "    \n",
    "# An even more modern way is a defaultdict.\n",
    "import collections\n",
    "\n",
    "d = collections.defaultdict(int)\n",
    "for color in colors:\n",
    "    d[color] += 1\n",
    "```"
   ]
  },
  {
   "cell_type": "markdown",
   "metadata": {},
   "source": [
    "```python\n",
    "# Grouping with Dictionaries\n",
    "names = ['raymond', 'rachel', 'matthew', 'roger', 'betty', 'melissa', 'judith', 'charlie']\n",
    "\n",
    "# The following idiom is proven, and is readily\n",
    "# adapted by modifying the key to suit your purpose.\n",
    "d = {}\n",
    "for name in names:\n",
    "    key = len(name)\n",
    "    if key not in d:\n",
    "        d[key] = []\n",
    "    d[key].append(name)\n",
    "    \n",
    "# There is yet a better way, but the method name\n",
    "# doesn't make the behaviour apparent.\n",
    "d = {}\n",
    "for name in names:\n",
    "    key = len(name)\n",
    "    d.setdefault(key, []).append(name)\n",
    "\n",
    "# And as expected, this is the modern way.\n",
    "import collections\n",
    "\n",
    "d = collections.defaultdict(list)\n",
    "for name in names:\n",
    "    key = len(name)\n",
    "    d[key].append(name)\n",
    "\n",
    "```"
   ]
  },
  {
   "cell_type": "markdown",
   "metadata": {},
   "source": [
    "```python\n",
    "# The dictionary popitem() method is atomic.\n",
    "d = {'matthew': 'blue', 'rachel': 'green', 'raymond': 'red'}\n",
    "\n",
    "while d:\n",
    "    key, value = d.popitem()\n",
    "    print key, '-->', value\n",
    "```"
   ]
  },
  {
   "cell_type": "markdown",
   "metadata": {},
   "source": [
    "```python\n",
    "# Linking dictionaries.\n",
    "import argparse\n",
    "\n",
    "defaults = {'color': 'red', 'user': 'guest'}\n",
    "parser = argparse.ArgumentParser()\n",
    "parser.add_argument('-u', '--user')\n",
    "parser.add_argument('-c', '--color')\n",
    "namespace = parser.parse_args([])\n",
    "command_line_args = {k : v for k, v in vars(namespace).items if v}\n",
    "\n",
    "d = defaults.copy()\n",
    "d.update(os.environ)\n",
    "d.update(command_line_args)\n",
    "\n",
    "# In Python 3, this has a new idiom.\n",
    "import collections\n",
    "\n",
    "d = collections.ChainMap(command_line_args, os.environ, defaults)\n",
    "```"
   ]
  },
  {
   "cell_type": "markdown",
   "metadata": {},
   "source": [
    "## 3. Improving Clarity\n",
    "---"
   ]
  },
  {
   "cell_type": "markdown",
   "metadata": {},
   "source": [
    "```python\n",
    "# Clarify function calls with keyword arguments.\n",
    "twitter_search('@obama', retweets=False, numtweets=20, popular=True)\n",
    "```"
   ]
  },
  {
   "cell_type": "markdown",
   "metadata": {},
   "source": [
    "```python\n",
    "# Clarify multiple return values with named tuples.\n",
    "TestResults = namedtuple('TestResults', ['failed', 'attempted'])\n",
    "```"
   ]
  },
  {
   "cell_type": "markdown",
   "metadata": {},
   "source": [
    "```python\n",
    "# Unpacking sequences.\n",
    "p = 'Raymond', 'Hettinger', 0x30, 'python@example.com'\n",
    "\n",
    "fname, lname, age, email = p\n",
    "```"
   ]
  },
  {
   "cell_type": "markdown",
   "metadata": {},
   "source": [
    "```python\n",
    "# Updating multiple state variables.\n",
    "def fibonacci(n):\n",
    "    x, y = 0, 1\n",
    "    for i in xrange(n):\n",
    "        print x\n",
    "        x, y = y, x+y\n",
    "        \n",
    "# Update state variables at the same time to avoid\n",
    "# errors due to out of order updates.\n",
    "x, y, dx, dy = (x + dx * t,\n",
    "                y + dy * t,\n",
    "                influence(m, x, y, dx, dy, partial='x'),\n",
    "                influence(m, x, y, dx, dy, partial='y'))\n",
    "```"
   ]
  },
  {
   "cell_type": "markdown",
   "metadata": {},
   "source": [
    "## 4. Efficiency\n",
    "---"
   ]
  },
  {
   "cell_type": "markdown",
   "metadata": {},
   "source": [
    "Don't move data around unnecessarily. It only takes a little care to avoid O(n^2) behaviour instead of linear behaviour."
   ]
  },
  {
   "cell_type": "markdown",
   "metadata": {},
   "source": [
    "```python\n",
    "# Concatenating Strings\n",
    "names = ['raymond', 'rachel', 'matthew', 'roger', 'betty', 'melissa', 'judith', 'charlie']\n",
    "\n",
    "# NO\n",
    "s = names[0]\n",
    "for name in names[1:]:\n",
    "    s += ', ' + name\n",
    "print s\n",
    "\n",
    "# YES\n",
    "print ', '.join(names)\n",
    "```"
   ]
  },
  {
   "cell_type": "markdown",
   "metadata": {},
   "source": [
    "```python\n",
    "# Updating Sequences\n",
    "names = ['raymond', 'rachel', 'matthew', 'roger', 'betty', 'melissa', 'judith', 'charlie']\n",
    "\n",
    "# NO\n",
    "del names[0]\n",
    "names.pop(0)\n",
    "names.insert(0, 'mark')\n",
    "\n",
    "# YES\n",
    "names = deque(['raymond', 'rachel', 'matthew', 'roger', 'betty', 'melissa', 'judith', 'charlie'])\n",
    "\n",
    "# A double-ended queue allows the following to be performed efficienctly.\n",
    "del names[0]\n",
    "names.popleft()\n",
    "names.appendleft('mark')\n",
    "```"
   ]
  },
  {
   "cell_type": "markdown",
   "metadata": {},
   "source": [
    "## 5. Decorators and Context Managers\n",
    "---"
   ]
  },
  {
   "cell_type": "markdown",
   "metadata": {},
   "source": [
    "```python\n",
    "# Using decorators to factor out administrative logic.\n",
    "import urllib\n",
    "\n",
    "# Mixes business logic of opening a url and returning a webpage\n",
    "# with the administrative logic of caching it in a dictionary.\n",
    "def web_lookup(url, saved={}):\n",
    "    if url in saved:\n",
    "        return saved[url]\n",
    "    page = urllib.urlopen(url).read()\n",
    "    saved[url] = page\n",
    "    return page\n",
    "    \n",
    "# Simple fix.\n",
    "def cache(func):\n",
    "    saved = {}\n",
    "    @wraps(func)\n",
    "    def newfunc(*args):\n",
    "        if args in saved:\n",
    "            return newfunc(args)\n",
    "        result = func(*args)\n",
    "        saved[args] = result\n",
    "        return result\n",
    "    return newfunc\n",
    "\n",
    "@cache\n",
    "def web_lookup(url):\n",
    "    return urllib.urlopen(url).read()\n",
    "```"
   ]
  },
  {
   "cell_type": "markdown",
   "metadata": {},
   "source": [
    "```python\n",
    "# Factor out temporary contexts.\n",
    "\n",
    "# Saving and restoring contexts is a common occurrence.\n",
    "old_context = getcontext().copy()\n",
    "getcontext().prec = 50\n",
    "print Decimal(355) / Decimal(113)\n",
    "setcontext(old_context)\n",
    "\n",
    "# Use a context manager to factor out the setup and\n",
    "# tear-down logic.\n",
    "with localcontext(Context(prec=50)):\n",
    "    print Decimal(355) / Decimal(113)\n",
    "    \n",
    "# Same for accessing files.\n",
    "with open('data.txt') as f:\n",
    "    data = f.read()\n",
    "```"
   ]
  },
  {
   "cell_type": "markdown",
   "metadata": {},
   "source": [
    "```python\n",
    "# How to use locks.\n",
    "import threading\n",
    "\n",
    "lock = threading.Lock()\n",
    "\n",
    "with lock:\n",
    "    pass\n",
    "```"
   ]
  },
  {
   "cell_type": "markdown",
   "metadata": {},
   "source": [
    "```python\n",
    "# In Python 3.4...\n",
    "with ignored(OSError):\n",
    "    os.remove('somefile.tmp')\n",
    "    \n",
    "# But in case you want to backport this...\n",
    "import contextlib\n",
    "\n",
    "@contextlib.contextmanager\n",
    "def ignored(*exceptions):\n",
    "    try:\n",
    "        yield\n",
    "    except:\n",
    "        pass\n",
    "```"
   ]
  },
  {
   "cell_type": "markdown",
   "metadata": {},
   "source": [
    "```python\n",
    "# Redirecting standard output to file.\n",
    "import contextlib\n",
    "\n",
    "@contextlib.contextmanager\n",
    "def redirect_stdout(fileobj):\n",
    "    oldstdout = sys.stdout\n",
    "    sys.stdout = fileobj\n",
    "    try:\n",
    "        yield fileobj\n",
    "    finally:\n",
    "        sys.stdout = oldstdout\n",
    "\n",
    "with open('help.txt', 'w') as f:\n",
    "    with redirect_stdout(f):\n",
    "        help(pow)\n",
    "```"
   ]
  },
  {
   "cell_type": "markdown",
   "metadata": {},
   "source": [
    "## 6. Concise, Expressive One-Liners\n",
    "---"
   ]
  },
  {
   "cell_type": "markdown",
   "metadata": {},
   "source": [
    "It's a balance between:\n",
    "1. Not putting too much on one line.\n",
    "2. Not breaking atoms of thought into subparticles.\n",
    "\n",
    "Raymond's Rule: One logical line of code equals one English sentence."
   ]
  },
  {
   "cell_type": "markdown",
   "metadata": {},
   "source": [
    "```python\n",
    "# List Comprehensions and Generator Expressions\n",
    "print sum([i**2 for i in xrange(10)])\n",
    "\n",
    "# The better way.\n",
    "print sum(i**2 for i in xrange(10))\n",
    "```"
   ]
  }
 ],
 "metadata": {
  "kernelspec": {
   "display_name": "Python 2",
   "language": "python",
   "name": "python2"
  },
  "language_info": {
   "codemirror_mode": {
    "name": "ipython",
    "version": 2
   },
   "file_extension": ".py",
   "mimetype": "text/x-python",
   "name": "python",
   "nbconvert_exporter": "python",
   "pygments_lexer": "ipython2",
   "version": "2.7.11"
  }
 },
 "nbformat": 4,
 "nbformat_minor": 0
}
